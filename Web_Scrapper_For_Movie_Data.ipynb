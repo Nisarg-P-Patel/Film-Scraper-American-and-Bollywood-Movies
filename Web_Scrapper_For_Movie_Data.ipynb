{
  "nbformat": 4,
  "nbformat_minor": 0,
  "metadata": {
    "colab": {
      "provenance": []
    },
    "kernelspec": {
      "name": "python3",
      "display_name": "Python 3"
    },
    "language_info": {
      "name": "python"
    },
    "widgets": {
      "application/vnd.jupyter.widget-state+json": {
        "934d07981d3f43238b5c6d780e25ddd0": {
          "model_module": "@jupyter-widgets/controls",
          "model_name": "IntSliderModel",
          "model_module_version": "1.5.0",
          "state": {
            "_dom_classes": [],
            "_model_module": "@jupyter-widgets/controls",
            "_model_module_version": "1.5.0",
            "_model_name": "IntSliderModel",
            "_view_count": null,
            "_view_module": "@jupyter-widgets/controls",
            "_view_module_version": "1.5.0",
            "_view_name": "IntSliderView",
            "continuous_update": true,
            "description": "Start Year",
            "description_tooltip": null,
            "disabled": false,
            "layout": "IPY_MODEL_3e31cc933eb0402d9fb55f4b271e6f01",
            "max": 2023,
            "min": 2000,
            "orientation": "horizontal",
            "readout": true,
            "readout_format": "d",
            "step": 1,
            "style": "IPY_MODEL_9aa05a7600fd47b780331d03e1d93212",
            "value": 2020
          }
        },
        "3e31cc933eb0402d9fb55f4b271e6f01": {
          "model_module": "@jupyter-widgets/base",
          "model_name": "LayoutModel",
          "model_module_version": "1.2.0",
          "state": {
            "_model_module": "@jupyter-widgets/base",
            "_model_module_version": "1.2.0",
            "_model_name": "LayoutModel",
            "_view_count": null,
            "_view_module": "@jupyter-widgets/base",
            "_view_module_version": "1.2.0",
            "_view_name": "LayoutView",
            "align_content": null,
            "align_items": null,
            "align_self": null,
            "border": null,
            "bottom": null,
            "display": null,
            "flex": null,
            "flex_flow": null,
            "grid_area": null,
            "grid_auto_columns": null,
            "grid_auto_flow": null,
            "grid_auto_rows": null,
            "grid_column": null,
            "grid_gap": null,
            "grid_row": null,
            "grid_template_areas": null,
            "grid_template_columns": null,
            "grid_template_rows": null,
            "height": null,
            "justify_content": null,
            "justify_items": null,
            "left": null,
            "margin": null,
            "max_height": null,
            "max_width": null,
            "min_height": null,
            "min_width": null,
            "object_fit": null,
            "object_position": null,
            "order": null,
            "overflow": null,
            "overflow_x": null,
            "overflow_y": null,
            "padding": null,
            "right": null,
            "top": null,
            "visibility": null,
            "width": null
          }
        },
        "9aa05a7600fd47b780331d03e1d93212": {
          "model_module": "@jupyter-widgets/controls",
          "model_name": "SliderStyleModel",
          "model_module_version": "1.5.0",
          "state": {
            "_model_module": "@jupyter-widgets/controls",
            "_model_module_version": "1.5.0",
            "_model_name": "SliderStyleModel",
            "_view_count": null,
            "_view_module": "@jupyter-widgets/base",
            "_view_module_version": "1.2.0",
            "_view_name": "StyleView",
            "description_width": "",
            "handle_color": null
          }
        },
        "087d127b7e0646aebcb279de5ad6f2b0": {
          "model_module": "@jupyter-widgets/controls",
          "model_name": "IntSliderModel",
          "model_module_version": "1.5.0",
          "state": {
            "_dom_classes": [],
            "_model_module": "@jupyter-widgets/controls",
            "_model_module_version": "1.5.0",
            "_model_name": "IntSliderModel",
            "_view_count": null,
            "_view_module": "@jupyter-widgets/controls",
            "_view_module_version": "1.5.0",
            "_view_name": "IntSliderView",
            "continuous_update": true,
            "description": "End Year",
            "description_tooltip": null,
            "disabled": false,
            "layout": "IPY_MODEL_b0b2ca1763fc43a39eb23bfa80266267",
            "max": 2024,
            "min": 2001,
            "orientation": "horizontal",
            "readout": true,
            "readout_format": "d",
            "step": 1,
            "style": "IPY_MODEL_81899a82d0f24ea497c76d7b272d610c",
            "value": 2024
          }
        },
        "b0b2ca1763fc43a39eb23bfa80266267": {
          "model_module": "@jupyter-widgets/base",
          "model_name": "LayoutModel",
          "model_module_version": "1.2.0",
          "state": {
            "_model_module": "@jupyter-widgets/base",
            "_model_module_version": "1.2.0",
            "_model_name": "LayoutModel",
            "_view_count": null,
            "_view_module": "@jupyter-widgets/base",
            "_view_module_version": "1.2.0",
            "_view_name": "LayoutView",
            "align_content": null,
            "align_items": null,
            "align_self": null,
            "border": null,
            "bottom": null,
            "display": null,
            "flex": null,
            "flex_flow": null,
            "grid_area": null,
            "grid_auto_columns": null,
            "grid_auto_flow": null,
            "grid_auto_rows": null,
            "grid_column": null,
            "grid_gap": null,
            "grid_row": null,
            "grid_template_areas": null,
            "grid_template_columns": null,
            "grid_template_rows": null,
            "height": null,
            "justify_content": null,
            "justify_items": null,
            "left": null,
            "margin": null,
            "max_height": null,
            "max_width": null,
            "min_height": null,
            "min_width": null,
            "object_fit": null,
            "object_position": null,
            "order": null,
            "overflow": null,
            "overflow_x": null,
            "overflow_y": null,
            "padding": null,
            "right": null,
            "top": null,
            "visibility": null,
            "width": null
          }
        },
        "81899a82d0f24ea497c76d7b272d610c": {
          "model_module": "@jupyter-widgets/controls",
          "model_name": "SliderStyleModel",
          "model_module_version": "1.5.0",
          "state": {
            "_model_module": "@jupyter-widgets/controls",
            "_model_module_version": "1.5.0",
            "_model_name": "SliderStyleModel",
            "_view_count": null,
            "_view_module": "@jupyter-widgets/base",
            "_view_module_version": "1.2.0",
            "_view_name": "StyleView",
            "description_width": "",
            "handle_color": null
          }
        },
        "84a0539a85cc4a008697b0a9fbe7a835": {
          "model_module": "@jupyter-widgets/controls",
          "model_name": "SelectMultipleModel",
          "model_module_version": "1.5.0",
          "state": {
            "_dom_classes": [],
            "_model_module": "@jupyter-widgets/controls",
            "_model_module_version": "1.5.0",
            "_model_name": "SelectMultipleModel",
            "_options_labels": [
              "American",
              "Bollywood"
            ],
            "_view_count": null,
            "_view_module": "@jupyter-widgets/controls",
            "_view_module_version": "1.5.0",
            "_view_name": "SelectMultipleView",
            "description": "Industries",
            "description_tooltip": null,
            "disabled": false,
            "index": [
              1
            ],
            "layout": "IPY_MODEL_9be817033b5b4862bb0503cc94af59fa",
            "rows": 5,
            "style": "IPY_MODEL_3030922b20c745199160c1854f064e0b"
          }
        },
        "9be817033b5b4862bb0503cc94af59fa": {
          "model_module": "@jupyter-widgets/base",
          "model_name": "LayoutModel",
          "model_module_version": "1.2.0",
          "state": {
            "_model_module": "@jupyter-widgets/base",
            "_model_module_version": "1.2.0",
            "_model_name": "LayoutModel",
            "_view_count": null,
            "_view_module": "@jupyter-widgets/base",
            "_view_module_version": "1.2.0",
            "_view_name": "LayoutView",
            "align_content": null,
            "align_items": null,
            "align_self": null,
            "border": null,
            "bottom": null,
            "display": null,
            "flex": null,
            "flex_flow": null,
            "grid_area": null,
            "grid_auto_columns": null,
            "grid_auto_flow": null,
            "grid_auto_rows": null,
            "grid_column": null,
            "grid_gap": null,
            "grid_row": null,
            "grid_template_areas": null,
            "grid_template_columns": null,
            "grid_template_rows": null,
            "height": null,
            "justify_content": null,
            "justify_items": null,
            "left": null,
            "margin": null,
            "max_height": null,
            "max_width": null,
            "min_height": null,
            "min_width": null,
            "object_fit": null,
            "object_position": null,
            "order": null,
            "overflow": null,
            "overflow_x": null,
            "overflow_y": null,
            "padding": null,
            "right": null,
            "top": null,
            "visibility": null,
            "width": null
          }
        },
        "3030922b20c745199160c1854f064e0b": {
          "model_module": "@jupyter-widgets/controls",
          "model_name": "DescriptionStyleModel",
          "model_module_version": "1.5.0",
          "state": {
            "_model_module": "@jupyter-widgets/controls",
            "_model_module_version": "1.5.0",
            "_model_name": "DescriptionStyleModel",
            "_view_count": null,
            "_view_module": "@jupyter-widgets/base",
            "_view_module_version": "1.2.0",
            "_view_name": "StyleView",
            "description_width": ""
          }
        },
        "a9da2924373b4189848e2205a6c13643": {
          "model_module": "@jupyter-widgets/controls",
          "model_name": "ButtonModel",
          "model_module_version": "1.5.0",
          "state": {
            "_dom_classes": [],
            "_model_module": "@jupyter-widgets/controls",
            "_model_module_version": "1.5.0",
            "_model_name": "ButtonModel",
            "_view_count": null,
            "_view_module": "@jupyter-widgets/controls",
            "_view_module_version": "1.5.0",
            "_view_name": "ButtonView",
            "button_style": "",
            "description": "Start Scraping",
            "disabled": false,
            "icon": "",
            "layout": "IPY_MODEL_8ff44e99f2904127bda82160acee6bb8",
            "style": "IPY_MODEL_8943c0f7afe14ff98aab354569d07234",
            "tooltip": ""
          }
        },
        "8ff44e99f2904127bda82160acee6bb8": {
          "model_module": "@jupyter-widgets/base",
          "model_name": "LayoutModel",
          "model_module_version": "1.2.0",
          "state": {
            "_model_module": "@jupyter-widgets/base",
            "_model_module_version": "1.2.0",
            "_model_name": "LayoutModel",
            "_view_count": null,
            "_view_module": "@jupyter-widgets/base",
            "_view_module_version": "1.2.0",
            "_view_name": "LayoutView",
            "align_content": null,
            "align_items": null,
            "align_self": null,
            "border": null,
            "bottom": null,
            "display": null,
            "flex": null,
            "flex_flow": null,
            "grid_area": null,
            "grid_auto_columns": null,
            "grid_auto_flow": null,
            "grid_auto_rows": null,
            "grid_column": null,
            "grid_gap": null,
            "grid_row": null,
            "grid_template_areas": null,
            "grid_template_columns": null,
            "grid_template_rows": null,
            "height": null,
            "justify_content": null,
            "justify_items": null,
            "left": null,
            "margin": null,
            "max_height": null,
            "max_width": null,
            "min_height": null,
            "min_width": null,
            "object_fit": null,
            "object_position": null,
            "order": null,
            "overflow": null,
            "overflow_x": null,
            "overflow_y": null,
            "padding": null,
            "right": null,
            "top": null,
            "visibility": null,
            "width": null
          }
        },
        "8943c0f7afe14ff98aab354569d07234": {
          "model_module": "@jupyter-widgets/controls",
          "model_name": "ButtonStyleModel",
          "model_module_version": "1.5.0",
          "state": {
            "_model_module": "@jupyter-widgets/controls",
            "_model_module_version": "1.5.0",
            "_model_name": "ButtonStyleModel",
            "_view_count": null,
            "_view_module": "@jupyter-widgets/base",
            "_view_module_version": "1.2.0",
            "_view_name": "StyleView",
            "button_color": null,
            "font_weight": ""
          }
        },
        "b3707ef28c96409a9d18ff452f99e336": {
          "model_module": "@jupyter-widgets/output",
          "model_name": "OutputModel",
          "model_module_version": "1.0.0",
          "state": {
            "_dom_classes": [],
            "_model_module": "@jupyter-widgets/output",
            "_model_module_version": "1.0.0",
            "_model_name": "OutputModel",
            "_view_count": null,
            "_view_module": "@jupyter-widgets/output",
            "_view_module_version": "1.0.0",
            "_view_name": "OutputView",
            "layout": "IPY_MODEL_953f98b9e9844ad9a4227ca91dc8f245",
            "msg_id": "",
            "outputs": [
              {
                "output_type": "stream",
                "name": "stdout",
                "text": [
                  "Scraping movies from 2020 to 2024 for the ('Bollywood',) industry...\n"
                ]
              },
              {
                "output_type": "stream",
                "name": "stderr",
                "text": [
                  "\r  0%|          | 0/5 [00:00<?, ?it/s]"
                ]
              },
              {
                "output_type": "stream",
                "name": "stderr",
                "text": [
                  "\r 20%|██        | 1/5 [00:00<00:02,  1.34it/s]"
                ]
              },
              {
                "output_type": "stream",
                "name": "stdout",
                "text": [
                  "Data location ->  /content/Datasets/BollyWood/\n"
                ]
              },
              {
                "output_type": "stream",
                "name": "stderr",
                "text": [
                  "\r 40%|████      | 2/5 [00:01<00:01,  1.56it/s]"
                ]
              },
              {
                "output_type": "stream",
                "name": "stdout",
                "text": [
                  "Data location ->  /content/Datasets/BollyWood/\n"
                ]
              },
              {
                "output_type": "stream",
                "name": "stderr",
                "text": [
                  "\r 60%|██████    | 3/5 [00:02<00:01,  1.42it/s]"
                ]
              },
              {
                "output_type": "stream",
                "name": "stdout",
                "text": [
                  "Data location ->  /content/Datasets/BollyWood/\n"
                ]
              },
              {
                "output_type": "stream",
                "name": "stderr",
                "text": [
                  "\r 80%|████████  | 4/5 [00:02<00:00,  1.35it/s]"
                ]
              },
              {
                "output_type": "stream",
                "name": "stdout",
                "text": [
                  "Data location ->  /content/Datasets/BollyWood/\n"
                ]
              },
              {
                "output_type": "stream",
                "name": "stderr",
                "text": [
                  "\r100%|██████████| 5/5 [00:03<00:00,  1.48it/s]"
                ]
              },
              {
                "output_type": "stream",
                "name": "stderr",
                "text": [
                  "\r100%|██████████| 5/5 [00:03<00:00,  1.45it/s]"
                ]
              },
              {
                "output_type": "stream",
                "name": "stdout",
                "text": [
                  "Data location ->  /content/Datasets/BollyWood/\n",
                  "Scraping completed.\n"
                ]
              },
              {
                "output_type": "stream",
                "name": "stderr",
                "text": [
                  "\n"
                ]
              }
            ]
          }
        },
        "953f98b9e9844ad9a4227ca91dc8f245": {
          "model_module": "@jupyter-widgets/base",
          "model_name": "LayoutModel",
          "model_module_version": "1.2.0",
          "state": {
            "_model_module": "@jupyter-widgets/base",
            "_model_module_version": "1.2.0",
            "_model_name": "LayoutModel",
            "_view_count": null,
            "_view_module": "@jupyter-widgets/base",
            "_view_module_version": "1.2.0",
            "_view_name": "LayoutView",
            "align_content": null,
            "align_items": null,
            "align_self": null,
            "border": null,
            "bottom": null,
            "display": null,
            "flex": null,
            "flex_flow": null,
            "grid_area": null,
            "grid_auto_columns": null,
            "grid_auto_flow": null,
            "grid_auto_rows": null,
            "grid_column": null,
            "grid_gap": null,
            "grid_row": null,
            "grid_template_areas": null,
            "grid_template_columns": null,
            "grid_template_rows": null,
            "height": null,
            "justify_content": null,
            "justify_items": null,
            "left": null,
            "margin": null,
            "max_height": null,
            "max_width": null,
            "min_height": null,
            "min_width": null,
            "object_fit": null,
            "object_position": null,
            "order": null,
            "overflow": null,
            "overflow_x": null,
            "overflow_y": null,
            "padding": null,
            "right": null,
            "top": null,
            "visibility": null,
            "width": null
          }
        }
      }
    }
  },
  "cells": [
    {
      "cell_type": "code",
      "source": [
        "!pip install ipywidgets"
      ],
      "metadata": {
        "colab": {
          "base_uri": "https://localhost:8080/"
        },
        "id": "40OOLFS8DtoA",
        "outputId": "4f1d2d92-8faf-4da1-9c34-02c3cbbe84bd"
      },
      "execution_count": 1,
      "outputs": [
        {
          "output_type": "stream",
          "name": "stdout",
          "text": [
            "Requirement already satisfied: ipywidgets in /usr/local/lib/python3.10/dist-packages (7.7.1)\n",
            "Requirement already satisfied: ipykernel>=4.5.1 in /usr/local/lib/python3.10/dist-packages (from ipywidgets) (5.5.6)\n",
            "Requirement already satisfied: ipython-genutils~=0.2.0 in /usr/local/lib/python3.10/dist-packages (from ipywidgets) (0.2.0)\n",
            "Requirement already satisfied: traitlets>=4.3.1 in /usr/local/lib/python3.10/dist-packages (from ipywidgets) (5.7.1)\n",
            "Requirement already satisfied: widgetsnbextension~=3.6.0 in /usr/local/lib/python3.10/dist-packages (from ipywidgets) (3.6.9)\n",
            "Requirement already satisfied: ipython>=4.0.0 in /usr/local/lib/python3.10/dist-packages (from ipywidgets) (7.34.0)\n",
            "Requirement already satisfied: jupyterlab-widgets>=1.0.0 in /usr/local/lib/python3.10/dist-packages (from ipywidgets) (3.0.13)\n",
            "Requirement already satisfied: jupyter-client in /usr/local/lib/python3.10/dist-packages (from ipykernel>=4.5.1->ipywidgets) (6.1.12)\n",
            "Requirement already satisfied: tornado>=4.2 in /usr/local/lib/python3.10/dist-packages (from ipykernel>=4.5.1->ipywidgets) (6.3.3)\n",
            "Requirement already satisfied: setuptools>=18.5 in /usr/local/lib/python3.10/dist-packages (from ipython>=4.0.0->ipywidgets) (71.0.4)\n",
            "Collecting jedi>=0.16 (from ipython>=4.0.0->ipywidgets)\n",
            "  Using cached jedi-0.19.1-py2.py3-none-any.whl.metadata (22 kB)\n",
            "Requirement already satisfied: decorator in /usr/local/lib/python3.10/dist-packages (from ipython>=4.0.0->ipywidgets) (4.4.2)\n",
            "Requirement already satisfied: pickleshare in /usr/local/lib/python3.10/dist-packages (from ipython>=4.0.0->ipywidgets) (0.7.5)\n",
            "Requirement already satisfied: prompt-toolkit!=3.0.0,!=3.0.1,<3.1.0,>=2.0.0 in /usr/local/lib/python3.10/dist-packages (from ipython>=4.0.0->ipywidgets) (3.0.47)\n",
            "Requirement already satisfied: pygments in /usr/local/lib/python3.10/dist-packages (from ipython>=4.0.0->ipywidgets) (2.18.0)\n",
            "Requirement already satisfied: backcall in /usr/local/lib/python3.10/dist-packages (from ipython>=4.0.0->ipywidgets) (0.2.0)\n",
            "Requirement already satisfied: matplotlib-inline in /usr/local/lib/python3.10/dist-packages (from ipython>=4.0.0->ipywidgets) (0.1.7)\n",
            "Requirement already satisfied: pexpect>4.3 in /usr/local/lib/python3.10/dist-packages (from ipython>=4.0.0->ipywidgets) (4.9.0)\n",
            "Requirement already satisfied: notebook>=4.4.1 in /usr/local/lib/python3.10/dist-packages (from widgetsnbextension~=3.6.0->ipywidgets) (6.5.5)\n",
            "Requirement already satisfied: parso<0.9.0,>=0.8.3 in /usr/local/lib/python3.10/dist-packages (from jedi>=0.16->ipython>=4.0.0->ipywidgets) (0.8.4)\n",
            "Requirement already satisfied: jinja2 in /usr/local/lib/python3.10/dist-packages (from notebook>=4.4.1->widgetsnbextension~=3.6.0->ipywidgets) (3.1.4)\n",
            "Requirement already satisfied: pyzmq<25,>=17 in /usr/local/lib/python3.10/dist-packages (from notebook>=4.4.1->widgetsnbextension~=3.6.0->ipywidgets) (24.0.1)\n",
            "Requirement already satisfied: argon2-cffi in /usr/local/lib/python3.10/dist-packages (from notebook>=4.4.1->widgetsnbextension~=3.6.0->ipywidgets) (23.1.0)\n",
            "Requirement already satisfied: jupyter-core>=4.6.1 in /usr/local/lib/python3.10/dist-packages (from notebook>=4.4.1->widgetsnbextension~=3.6.0->ipywidgets) (5.7.2)\n",
            "Requirement already satisfied: nbformat in /usr/local/lib/python3.10/dist-packages (from notebook>=4.4.1->widgetsnbextension~=3.6.0->ipywidgets) (5.10.4)\n",
            "Requirement already satisfied: nbconvert>=5 in /usr/local/lib/python3.10/dist-packages (from notebook>=4.4.1->widgetsnbextension~=3.6.0->ipywidgets) (6.5.4)\n",
            "Requirement already satisfied: nest-asyncio>=1.5 in /usr/local/lib/python3.10/dist-packages (from notebook>=4.4.1->widgetsnbextension~=3.6.0->ipywidgets) (1.6.0)\n",
            "Requirement already satisfied: Send2Trash>=1.8.0 in /usr/local/lib/python3.10/dist-packages (from notebook>=4.4.1->widgetsnbextension~=3.6.0->ipywidgets) (1.8.3)\n",
            "Requirement already satisfied: terminado>=0.8.3 in /usr/local/lib/python3.10/dist-packages (from notebook>=4.4.1->widgetsnbextension~=3.6.0->ipywidgets) (0.18.1)\n",
            "Requirement already satisfied: prometheus-client in /usr/local/lib/python3.10/dist-packages (from notebook>=4.4.1->widgetsnbextension~=3.6.0->ipywidgets) (0.21.0)\n",
            "Requirement already satisfied: nbclassic>=0.4.7 in /usr/local/lib/python3.10/dist-packages (from notebook>=4.4.1->widgetsnbextension~=3.6.0->ipywidgets) (1.1.0)\n",
            "Requirement already satisfied: python-dateutil>=2.1 in /usr/local/lib/python3.10/dist-packages (from jupyter-client->ipykernel>=4.5.1->ipywidgets) (2.8.2)\n",
            "Requirement already satisfied: ptyprocess>=0.5 in /usr/local/lib/python3.10/dist-packages (from pexpect>4.3->ipython>=4.0.0->ipywidgets) (0.7.0)\n",
            "Requirement already satisfied: wcwidth in /usr/local/lib/python3.10/dist-packages (from prompt-toolkit!=3.0.0,!=3.0.1,<3.1.0,>=2.0.0->ipython>=4.0.0->ipywidgets) (0.2.13)\n",
            "Requirement already satisfied: platformdirs>=2.5 in /usr/local/lib/python3.10/dist-packages (from jupyter-core>=4.6.1->notebook>=4.4.1->widgetsnbextension~=3.6.0->ipywidgets) (4.3.6)\n",
            "Requirement already satisfied: notebook-shim>=0.2.3 in /usr/local/lib/python3.10/dist-packages (from nbclassic>=0.4.7->notebook>=4.4.1->widgetsnbextension~=3.6.0->ipywidgets) (0.2.4)\n",
            "Requirement already satisfied: lxml in /usr/local/lib/python3.10/dist-packages (from nbconvert>=5->notebook>=4.4.1->widgetsnbextension~=3.6.0->ipywidgets) (4.9.4)\n",
            "Requirement already satisfied: beautifulsoup4 in /usr/local/lib/python3.10/dist-packages (from nbconvert>=5->notebook>=4.4.1->widgetsnbextension~=3.6.0->ipywidgets) (4.12.3)\n",
            "Requirement already satisfied: bleach in /usr/local/lib/python3.10/dist-packages (from nbconvert>=5->notebook>=4.4.1->widgetsnbextension~=3.6.0->ipywidgets) (6.1.0)\n",
            "Requirement already satisfied: defusedxml in /usr/local/lib/python3.10/dist-packages (from nbconvert>=5->notebook>=4.4.1->widgetsnbextension~=3.6.0->ipywidgets) (0.7.1)\n",
            "Requirement already satisfied: entrypoints>=0.2.2 in /usr/local/lib/python3.10/dist-packages (from nbconvert>=5->notebook>=4.4.1->widgetsnbextension~=3.6.0->ipywidgets) (0.4)\n",
            "Requirement already satisfied: jupyterlab-pygments in /usr/local/lib/python3.10/dist-packages (from nbconvert>=5->notebook>=4.4.1->widgetsnbextension~=3.6.0->ipywidgets) (0.3.0)\n",
            "Requirement already satisfied: MarkupSafe>=2.0 in /usr/local/lib/python3.10/dist-packages (from nbconvert>=5->notebook>=4.4.1->widgetsnbextension~=3.6.0->ipywidgets) (2.1.5)\n",
            "Requirement already satisfied: mistune<2,>=0.8.1 in /usr/local/lib/python3.10/dist-packages (from nbconvert>=5->notebook>=4.4.1->widgetsnbextension~=3.6.0->ipywidgets) (0.8.4)\n",
            "Requirement already satisfied: nbclient>=0.5.0 in /usr/local/lib/python3.10/dist-packages (from nbconvert>=5->notebook>=4.4.1->widgetsnbextension~=3.6.0->ipywidgets) (0.10.0)\n",
            "Requirement already satisfied: packaging in /usr/local/lib/python3.10/dist-packages (from nbconvert>=5->notebook>=4.4.1->widgetsnbextension~=3.6.0->ipywidgets) (24.1)\n",
            "Requirement already satisfied: pandocfilters>=1.4.1 in /usr/local/lib/python3.10/dist-packages (from nbconvert>=5->notebook>=4.4.1->widgetsnbextension~=3.6.0->ipywidgets) (1.5.1)\n",
            "Requirement already satisfied: tinycss2 in /usr/local/lib/python3.10/dist-packages (from nbconvert>=5->notebook>=4.4.1->widgetsnbextension~=3.6.0->ipywidgets) (1.3.0)\n",
            "Requirement already satisfied: fastjsonschema>=2.15 in /usr/local/lib/python3.10/dist-packages (from nbformat->notebook>=4.4.1->widgetsnbextension~=3.6.0->ipywidgets) (2.20.0)\n",
            "Requirement already satisfied: jsonschema>=2.6 in /usr/local/lib/python3.10/dist-packages (from nbformat->notebook>=4.4.1->widgetsnbextension~=3.6.0->ipywidgets) (4.23.0)\n",
            "Requirement already satisfied: six>=1.5 in /usr/local/lib/python3.10/dist-packages (from python-dateutil>=2.1->jupyter-client->ipykernel>=4.5.1->ipywidgets) (1.16.0)\n",
            "Requirement already satisfied: argon2-cffi-bindings in /usr/local/lib/python3.10/dist-packages (from argon2-cffi->notebook>=4.4.1->widgetsnbextension~=3.6.0->ipywidgets) (21.2.0)\n",
            "Requirement already satisfied: attrs>=22.2.0 in /usr/local/lib/python3.10/dist-packages (from jsonschema>=2.6->nbformat->notebook>=4.4.1->widgetsnbextension~=3.6.0->ipywidgets) (24.2.0)\n",
            "Requirement already satisfied: jsonschema-specifications>=2023.03.6 in /usr/local/lib/python3.10/dist-packages (from jsonschema>=2.6->nbformat->notebook>=4.4.1->widgetsnbextension~=3.6.0->ipywidgets) (2023.12.1)\n",
            "Requirement already satisfied: referencing>=0.28.4 in /usr/local/lib/python3.10/dist-packages (from jsonschema>=2.6->nbformat->notebook>=4.4.1->widgetsnbextension~=3.6.0->ipywidgets) (0.35.1)\n",
            "Requirement already satisfied: rpds-py>=0.7.1 in /usr/local/lib/python3.10/dist-packages (from jsonschema>=2.6->nbformat->notebook>=4.4.1->widgetsnbextension~=3.6.0->ipywidgets) (0.20.0)\n",
            "Requirement already satisfied: jupyter-server<3,>=1.8 in /usr/local/lib/python3.10/dist-packages (from notebook-shim>=0.2.3->nbclassic>=0.4.7->notebook>=4.4.1->widgetsnbextension~=3.6.0->ipywidgets) (1.24.0)\n",
            "Requirement already satisfied: cffi>=1.0.1 in /usr/local/lib/python3.10/dist-packages (from argon2-cffi-bindings->argon2-cffi->notebook>=4.4.1->widgetsnbextension~=3.6.0->ipywidgets) (1.17.1)\n",
            "Requirement already satisfied: soupsieve>1.2 in /usr/local/lib/python3.10/dist-packages (from beautifulsoup4->nbconvert>=5->notebook>=4.4.1->widgetsnbextension~=3.6.0->ipywidgets) (2.6)\n",
            "Requirement already satisfied: webencodings in /usr/local/lib/python3.10/dist-packages (from bleach->nbconvert>=5->notebook>=4.4.1->widgetsnbextension~=3.6.0->ipywidgets) (0.5.1)\n",
            "Requirement already satisfied: pycparser in /usr/local/lib/python3.10/dist-packages (from cffi>=1.0.1->argon2-cffi-bindings->argon2-cffi->notebook>=4.4.1->widgetsnbextension~=3.6.0->ipywidgets) (2.22)\n",
            "Requirement already satisfied: anyio<4,>=3.1.0 in /usr/local/lib/python3.10/dist-packages (from jupyter-server<3,>=1.8->notebook-shim>=0.2.3->nbclassic>=0.4.7->notebook>=4.4.1->widgetsnbextension~=3.6.0->ipywidgets) (3.7.1)\n",
            "Requirement already satisfied: websocket-client in /usr/local/lib/python3.10/dist-packages (from jupyter-server<3,>=1.8->notebook-shim>=0.2.3->nbclassic>=0.4.7->notebook>=4.4.1->widgetsnbextension~=3.6.0->ipywidgets) (1.8.0)\n",
            "Requirement already satisfied: idna>=2.8 in /usr/local/lib/python3.10/dist-packages (from anyio<4,>=3.1.0->jupyter-server<3,>=1.8->notebook-shim>=0.2.3->nbclassic>=0.4.7->notebook>=4.4.1->widgetsnbextension~=3.6.0->ipywidgets) (3.10)\n",
            "Requirement already satisfied: sniffio>=1.1 in /usr/local/lib/python3.10/dist-packages (from anyio<4,>=3.1.0->jupyter-server<3,>=1.8->notebook-shim>=0.2.3->nbclassic>=0.4.7->notebook>=4.4.1->widgetsnbextension~=3.6.0->ipywidgets) (1.3.1)\n",
            "Requirement already satisfied: exceptiongroup in /usr/local/lib/python3.10/dist-packages (from anyio<4,>=3.1.0->jupyter-server<3,>=1.8->notebook-shim>=0.2.3->nbclassic>=0.4.7->notebook>=4.4.1->widgetsnbextension~=3.6.0->ipywidgets) (1.2.2)\n",
            "Using cached jedi-0.19.1-py2.py3-none-any.whl (1.6 MB)\n",
            "Installing collected packages: jedi\n",
            "Successfully installed jedi-0.19.1\n"
          ]
        }
      ]
    },
    {
      "cell_type": "code",
      "source": [
        "import os\n",
        "import requests\n",
        "import pandas as pd\n",
        "from bs4 import BeautifulSoup\n",
        "from tqdm import tqdm\n",
        "\n",
        "# Define the dataset location\n",
        "current_dir = os.getcwd()  # Get the current working directory\n",
        "dataset_location = os.path.realpath(os.path.join(current_dir, \"Datasets\"))  # Create an absolute path for the 'Datasets' directory\n",
        "os.makedirs(dataset_location, exist_ok=True)  # Create the 'Datasets' directory if it doesn't already exist"
      ],
      "metadata": {
        "id": "WZrrCkNktbWt"
      },
      "execution_count": 2,
      "outputs": []
    },
    {
      "cell_type": "code",
      "source": [
        "def america_pre_process(dataset_location, url):\n",
        "    # Send request to fetch the content of the Wikipedia page\n",
        "    response = requests.get(url)\n",
        "    soup = BeautifulSoup(response.content, 'html.parser')\n",
        "\n",
        "    # Define a list to hold all movie data\n",
        "    movies_list = []\n",
        "\n",
        "    # Find all tables that list movies by quarter\n",
        "    tables = soup.find_all('table', class_='wikitable')\n",
        "\n",
        "    # Iterate over each table (each table is a quarter of the year)\n",
        "    for table in tables:\n",
        "        rows = table.find_all('tr')[1:]  # Skip the header row\n",
        "\n",
        "        # Process each row in the table\n",
        "        for row in rows:\n",
        "            cols = row.find_all('td')\n",
        "\n",
        "            # Check if the row has the correct number of columns\n",
        "            if len(cols) >= 4:\n",
        "                # Extract relevant details from the columns\n",
        "                movie_details = {\n",
        "                    'Title': cols[0].get_text(strip=True),           # Extract movie title\n",
        "                    'Production Company': cols[1].get_text(strip=True),  # Extract production company\n",
        "                    'Cast and Crew': cols[2].get_text(strip=True),      # Extract cast and crew details\n",
        "                    'Ref': cols[3].get_text(strip=True)                  # Extract reference information\n",
        "                }\n",
        "                # Add the movie details to the list\n",
        "                movies_list.append(movie_details)\n",
        "\n",
        "    # Create a DataFrame from the collected movie data\n",
        "    df = pd.DataFrame(movies_list)\n",
        "\n",
        "    # Filter out rows where 'Ref' contains a dollar sign\n",
        "    filtered_df = df[~df['Ref'].str.contains('\\$', na=False)]\n",
        "\n",
        "    # Define a mask for rows that meet specific conditions\n",
        "    mask = (\n",
        "        filtered_df['Ref'].notna() &                           # 'Ref' should not be NaN\n",
        "        ~filtered_df['Ref'].str.startswith('[') &              # 'Ref' should not start with '['\n",
        "        ~filtered_df['Ref'].str.endswith(']') &                # 'Ref' should not end with ']'\n",
        "        filtered_df['Title'].str.isnumeric() == True          # 'Title' should not be numeric\n",
        "    )\n",
        "\n",
        "    # Create a copy of the DataFrame to avoid SettingWithCopyWarning\n",
        "    df_shifted = filtered_df.copy()\n",
        "\n",
        "    # Apply the mask to filter DataFrame\n",
        "    masked_df = df_shifted[mask]\n",
        "\n",
        "    # Delete the first column (assumed to be the index)\n",
        "    masked_df = masked_df.drop(columns=['Title'])\n",
        "\n",
        "    # Rename the columns for clarity\n",
        "    masked_df.columns = ['Title', 'Production Company', 'Cast and Crew']\n",
        "\n",
        "    # Remove the rows in filtered_df that met the mask condition and drop the 'Ref' column\n",
        "    df = filtered_df[~mask].drop(columns=['Ref'])\n",
        "\n",
        "    # Merge the original DataFrame (without masked rows) and the masked DataFrame\n",
        "    merged_df = pd.concat([df, masked_df], ignore_index=True)\n",
        "\n",
        "    # Define the directory path\n",
        "    directory_path = dataset_location +'/HollyWood/'\n",
        "\n",
        "    # Check if the directory exists\n",
        "    if not os.path.exists(directory_path):\n",
        "        # Create the directory if it does not exist\n",
        "        os.makedirs(directory_path)\n",
        "\n",
        "    # Save the merged DataFrame to a CSV file\n",
        "    merged_df.to_csv(directory_path + url.split('/')[-1] + '.csv', index=False)\n",
        "\n",
        "    print(\"Data location -> \", directory_path)\n",
        "\n",
        "# Example usage\n",
        "# america_pre_process(\"https://en.wikipedia.org/wiki/List_of_American_films_of_2020\")"
      ],
      "metadata": {
        "id": "2pTDZ2ghtYk1"
      },
      "execution_count": 3,
      "outputs": []
    },
    {
      "cell_type": "code",
      "source": [
        "def bollywood_pre_process(dataset_location, url):\n",
        "    # Send a GET request to fetch the content of the Wikipedia page\n",
        "    response = requests.get(url)\n",
        "    soup = BeautifulSoup(response.content, 'html.parser')\n",
        "\n",
        "    # Define a list to store movie data extracted from the page\n",
        "    movies_list = []\n",
        "\n",
        "    # Find all tables with class 'wikitable' that list movies on the page\n",
        "    tables = soup.find_all('table', class_='wikitable')\n",
        "\n",
        "    # Iterate over each table found on the page\n",
        "    for table in tables:\n",
        "        rows = table.find_all('tr')[1:]  # Skip the first row (header)\n",
        "\n",
        "        # Process each row in the table\n",
        "        for row in rows:\n",
        "            cols = row.find_all('td')\n",
        "\n",
        "            # Check if the row has enough columns (at least 5) to extract meaningful data\n",
        "            if len(cols) >= 5:\n",
        "                # Some rows might have an extra numeric column, we handle that here\n",
        "                if cols[1].get_text(strip=True).isnumeric():\n",
        "                    cols = cols[1:]  # Remove the extra numeric column\n",
        "\n",
        "                # Extract movie details like title, director, cast, studio, and reference\n",
        "                movie_details = {\n",
        "                    'Title': cols[0].get_text(strip=True),      # Movie title\n",
        "                    'Director': cols[1].get_text(strip=True),   # Director(s)\n",
        "                    'Cast': cols[2].get_text(strip=True),       # Cast\n",
        "                    'Studio': cols[3].get_text(strip=True),     # Production company (studio)\n",
        "                    'Ref': cols[4].get_text(strip=True)         # Reference information (optional)\n",
        "                }\n",
        "\n",
        "                # Add the movie details to the list\n",
        "                movies_list.append(movie_details)\n",
        "\n",
        "    # Convert the list of movie data into a pandas DataFrame for easy processing\n",
        "    df = pd.DataFrame(movies_list)\n",
        "\n",
        "    # Filter out rows where the 'Studio' contains '$' symbol, likely erroneous entries\n",
        "    filtered_df = df[~df['Studio'].str.contains('\\$', na=False)]\n",
        "\n",
        "    # Update the DataFrame to use only the filtered data\n",
        "    df = filtered_df\n",
        "\n",
        "    # Define a condition (mask) to handle invalid rows where reference is missing or incorrect\n",
        "    mask = (\n",
        "        df['Ref'].notna() &                             # Reference is not empty\n",
        "        ~df['Ref'].str.startswith('[') &                # Reference doesn't start with '['\n",
        "        ~df['Ref'].str.endswith(']') &                  # Reference doesn't end with ']'\n",
        "        df['Title'].str.isnumeric() == True             # Title is not a numeric value\n",
        "    )\n",
        "\n",
        "    # Create a copy of the DataFrame to avoid potential warnings\n",
        "    df_shifted = df.copy()\n",
        "\n",
        "    # Apply the mask to extract rows that meet the condition\n",
        "    masked_df = df_shifted[mask]\n",
        "\n",
        "    # Drop the 'Title' column from the masked DataFrame\n",
        "    masked_df = masked_df.drop(columns=['Title'])\n",
        "\n",
        "    # Rename the columns to match the original structure after the shift\n",
        "    masked_df.columns = ['Title', 'Director', 'Cast', 'Studio']\n",
        "\n",
        "    # Remove rows that meet the mask condition from the original DataFrame and drop 'Ref' column\n",
        "    df = df[~mask].drop(columns=['Ref'])\n",
        "\n",
        "    # Merge the cleaned DataFrames (original and masked) into one\n",
        "    merged_df = pd.concat([df, masked_df], ignore_index=True)\n",
        "\n",
        "    # Define the directory path to save the CSV file\n",
        "    directory_path = dataset_location + '/BollyWood/'\n",
        "\n",
        "    # Check if the directory exists, if not, create it\n",
        "    if not os.path.exists(directory_path):\n",
        "        os.makedirs(directory_path)\n",
        "\n",
        "    # Save the merged DataFrame to a CSV file named after the last part of the URL\n",
        "    merged_df.to_csv(directory_path + url.split('/')[-1] + '.csv', index=False)\n",
        "\n",
        "    print(\"Data location -> \", directory_path)\n",
        "\n",
        "# Example usage\n",
        "# bollywood_pre_process(\"https://en.wikipedia.org/wiki/List_of_Hindi_films_of_2020\")\n"
      ],
      "metadata": {
        "id": "I-vHwmr_yPHY"
      },
      "execution_count": 6,
      "outputs": []
    },
    {
      "cell_type": "code",
      "execution_count": 7,
      "metadata": {
        "id": "5nEHlVgGSLKC"
      },
      "outputs": [],
      "source": [
        "def scrape_wikipedia_movies(dataset_location, year, industry):\n",
        "    \"\"\"\n",
        "    Scrape movie data from Wikipedia based on the given year and film industry.\n",
        "\n",
        "    Parameters:\n",
        "    dataset_location (str): The location to store the dataset.\n",
        "    year (int): The year for which movies are to be scraped.\n",
        "    industry (str): The film industry to target, either 'American' or 'Bollywood'.\n",
        "\n",
        "    If the industry is 'American', it scrapes data from the Wikipedia page for American films of that year.\n",
        "    If the industry is 'Bollywood', it scrapes data from the Wikipedia page for Hindi films of that year.\n",
        "    Calls appropriate preprocessing functions based on the industry.\n",
        "    \"\"\"\n",
        "\n",
        "    # For American films, generate the Wikipedia URL for that year and call the preprocessing function.\n",
        "    if industry == \"American\":\n",
        "        url = f\"https://en.wikipedia.org/wiki/List_of_American_films_of_{year}\"\n",
        "        america_pre_process(dataset_location, url)\n",
        "\n",
        "    # For Bollywood (Hindi) films, generate the Wikipedia URL for that year and call the preprocessing function.\n",
        "    elif industry == \"Bollywood\":\n",
        "        url = f\"https://en.wikipedia.org/wiki/List_of_Hindi_films_of_{year}\"\n",
        "        bollywood_pre_process(dataset_location, url)\n",
        "\n",
        "    # If the industry is neither American nor Bollywood, return an empty list (no data to scrape).\n",
        "    else:\n",
        "        return []"
      ]
    },
    {
      "cell_type": "code",
      "source": [
        "import ipywidgets as widgets\n",
        "from IPython.display import display\n",
        "from tqdm import tqdm\n",
        "\n",
        "# Define the function that triggers the scraping\n",
        "def run_scraper(start_year, current_year, industries):\n",
        "    \"\"\"\n",
        "    Scrapes movies for the specified year range and industries.\n",
        "\n",
        "    Parameters:\n",
        "    start_year (int): The starting year for scraping.\n",
        "    current_year (int): The ending year for scraping.\n",
        "    industries (list): List of film industries to scrape (e.g., 'American', 'Bollywood').\n",
        "\n",
        "    For each year in the range, it calls the scrape function for each industry.\n",
        "    \"\"\"\n",
        "    dataset_location = '/content/Datasets'  # Predefined path for saving scraped data\n",
        "\n",
        "    for year in tqdm(range(start_year, current_year + 1)):\n",
        "        for industry in industries:\n",
        "            scrape_wikipedia_movies(dataset_location, year, industry)\n",
        "\n",
        "    print(\"Scraping completed.\")\n",
        "\n",
        "# Create interactive widgets for selecting year range and industry\n",
        "start_year_widget = widgets.IntSlider(value=2020, min=2000, max=2023, step=1, description='Start Year')\n",
        "end_year_widget = widgets.IntSlider(value=2024, min=2001, max=2024, step=1, description='End Year')\n",
        "\n",
        "# Checkbox widgets to select which industries to scrape\n",
        "industry_widget = widgets.SelectMultiple(\n",
        "    options=[\"American\", \"Bollywood\"],\n",
        "    value=[\"American\", \"Bollywood\"],\n",
        "    description=\"Industries\",\n",
        "    disabled=False\n",
        ")\n",
        "\n",
        "# Create an output area for warning or success messages\n",
        "output_area = widgets.Output()\n",
        "\n",
        "# Create a button to start the scraping process\n",
        "scrape_button = widgets.Button(description=\"Start Scraping\")\n",
        "\n",
        "# Define what happens when the button is clicked\n",
        "def on_button_click(b):\n",
        "    \"\"\"\n",
        "    This function is triggered when the 'Start Scraping' button is clicked.\n",
        "    It retrieves the selected values from the widgets and checks if the end year is valid.\n",
        "    It also ensures only one industry is selected.\n",
        "    \"\"\"\n",
        "    start_year = start_year_widget.value\n",
        "    current_year = end_year_widget.value\n",
        "    industry = industry_widget.value  # Only one industry is allowed\n",
        "\n",
        "    with output_area:\n",
        "        output_area.clear_output()  # Clear any previous output\n",
        "        # Check if the end year is greater than or equal to the start year\n",
        "        if current_year >= start_year:\n",
        "            print(f\"Scraping movies from {start_year} to {current_year} for the {industry} industry...\")\n",
        "            run_scraper(start_year, current_year, industry)\n",
        "        else:\n",
        "            print(f\"Error: End year ({current_year}) must be greater than or equal to the start year ({start_year}).\")\n",
        "\n",
        "# Link the button click event to the function\n",
        "scrape_button.on_click(on_button_click)\n",
        "\n",
        "# Display the widgets in the output\n",
        "display(start_year_widget, end_year_widget, industry_widget, scrape_button, output_area)"
      ],
      "metadata": {
        "id": "KCc9Rc8zuAyN",
        "colab": {
          "base_uri": "https://localhost:8080/",
          "height": 463,
          "referenced_widgets": [
            "934d07981d3f43238b5c6d780e25ddd0",
            "3e31cc933eb0402d9fb55f4b271e6f01",
            "9aa05a7600fd47b780331d03e1d93212",
            "087d127b7e0646aebcb279de5ad6f2b0",
            "b0b2ca1763fc43a39eb23bfa80266267",
            "81899a82d0f24ea497c76d7b272d610c",
            "84a0539a85cc4a008697b0a9fbe7a835",
            "9be817033b5b4862bb0503cc94af59fa",
            "3030922b20c745199160c1854f064e0b",
            "a9da2924373b4189848e2205a6c13643",
            "8ff44e99f2904127bda82160acee6bb8",
            "8943c0f7afe14ff98aab354569d07234",
            "b3707ef28c96409a9d18ff452f99e336",
            "953f98b9e9844ad9a4227ca91dc8f245"
          ]
        },
        "outputId": "e1bc2219-b524-4253-c9c3-87fb81f8ac62"
      },
      "execution_count": 9,
      "outputs": [
        {
          "output_type": "display_data",
          "data": {
            "text/plain": [
              "IntSlider(value=2020, description='Start Year', max=2023, min=2000)"
            ],
            "application/vnd.jupyter.widget-view+json": {
              "version_major": 2,
              "version_minor": 0,
              "model_id": "934d07981d3f43238b5c6d780e25ddd0"
            }
          },
          "metadata": {}
        },
        {
          "output_type": "display_data",
          "data": {
            "text/plain": [
              "IntSlider(value=2024, description='End Year', max=2024, min=2001)"
            ],
            "application/vnd.jupyter.widget-view+json": {
              "version_major": 2,
              "version_minor": 0,
              "model_id": "087d127b7e0646aebcb279de5ad6f2b0"
            }
          },
          "metadata": {}
        },
        {
          "output_type": "display_data",
          "data": {
            "text/plain": [
              "SelectMultiple(description='Industries', index=(0, 1), options=('American', 'Bollywood'), value=('American', '…"
            ],
            "application/vnd.jupyter.widget-view+json": {
              "version_major": 2,
              "version_minor": 0,
              "model_id": "84a0539a85cc4a008697b0a9fbe7a835"
            }
          },
          "metadata": {}
        },
        {
          "output_type": "display_data",
          "data": {
            "text/plain": [
              "Button(description='Start Scraping', style=ButtonStyle())"
            ],
            "application/vnd.jupyter.widget-view+json": {
              "version_major": 2,
              "version_minor": 0,
              "model_id": "a9da2924373b4189848e2205a6c13643"
            }
          },
          "metadata": {}
        },
        {
          "output_type": "display_data",
          "data": {
            "text/plain": [
              "Output()"
            ],
            "application/vnd.jupyter.widget-view+json": {
              "version_major": 2,
              "version_minor": 0,
              "model_id": "b3707ef28c96409a9d18ff452f99e336"
            }
          },
          "metadata": {}
        }
      ]
    },
    {
      "cell_type": "code",
      "source": [],
      "metadata": {
        "id": "ZzzibIObD0QG"
      },
      "execution_count": null,
      "outputs": []
    }
  ]
}